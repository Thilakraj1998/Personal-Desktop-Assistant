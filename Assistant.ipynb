{
 "cells": [
  {
   "cell_type": "markdown",
   "metadata": {},
   "source": [
    "# packages"
   ]
  },
  {
   "cell_type": "code",
   "execution_count": 120,
   "metadata": {},
   "outputs": [],
   "source": [
    "import pywhatkit as pwk\n",
    "import pyttsx3 as tts\n",
    "import datetime as dt\n",
    "import wikipedia as wk\n",
    "import pyjokes as pj\n",
    "import PyPDF2 as pydf\n",
    "import os\n",
    "import subprocess\n",
    "import docx \n",
    "import webbrowser as wb\n",
    "import smtplib as sm\n",
    "import pymongo as mg\n",
    "import pandas as pd\n",
    "from email.mime.multipart import MIMEMultipart\n",
    "from email.mime.text import MIMEText"
   ]
  },
  {
   "cell_type": "markdown",
   "metadata": {},
   "source": [
    "# Activate Assistant"
   ]
  },
  {
   "cell_type": "code",
   "execution_count": 122,
   "metadata": {},
   "outputs": [
    {
     "name": "stdout",
     "output_type": "stream",
     "text": [
      "what is ur command: search python\n",
      "what is ur command: open youtube\n",
      "what is ur command: bye\n"
     ]
    }
   ],
   "source": [
    "cmd_taker()"
   ]
  },
  {
   "cell_type": "markdown",
   "metadata": {},
   "source": [
    "# MongoDB connector"
   ]
  },
  {
   "cell_type": "code",
   "execution_count": 5,
   "metadata": {},
   "outputs": [],
   "source": [
    "# connection \n",
    "def get_dbConn():\n",
    "    conn=mg.MongoClient(\"mongodb://localhost:27017/\")\n",
    "    mydb = conn[\"PyDB\"]\n",
    "    mycol=mydb[\"MailService\"]\n",
    "    return mycol"
   ]
  },
  {
   "cell_type": "markdown",
   "metadata": {},
   "source": [
    "# fetching mailid from database"
   ]
  },
  {
   "cell_type": "code",
   "execution_count": 53,
   "metadata": {},
   "outputs": [],
   "source": [
    "def get_mailid(name):\n",
    "    mycol=get_dbConn()\n",
    "    df=pd.DataFrame.from_records(mycol.find_one({\"name\":name},{\"_id\":0,\"name\":1,\"mailid\":1,\"num\":0}))\n",
    "    m=df.loc[0,'mailid']\n",
    "    Mailstruct(m,name)"
   ]
  },
  {
   "cell_type": "markdown",
   "metadata": {},
   "source": [
    "# adding new mail to Database"
   ]
  },
  {
   "cell_type": "code",
   "execution_count": 22,
   "metadata": {},
   "outputs": [],
   "source": [
    "def add_mail(uname,mail,num):\n",
    "    mycol=get_dbConn()\n",
    "    r=mycol.insert_one({\"name\":uname,\"mailid\":mail,\"num\":num})\n",
    "    talk(\"new user added to database\")"
   ]
  },
  {
   "cell_type": "markdown",
   "metadata": {},
   "source": [
    "# fetching user phone number"
   ]
  },
  {
   "cell_type": "code",
   "execution_count": 113,
   "metadata": {},
   "outputs": [],
   "source": [
    "def get_contact(name):\n",
    "    mycol=get_dbConn()\n",
    "    df=pd.DataFrame.from_records(mycol.find({\"name\":name}))\n",
    "    m=df.loc[0,\"num\"]\n",
    "    send_msg(m)\n",
    "    "
   ]
  },
  {
   "cell_type": "code",
   "execution_count": 117,
   "metadata": {},
   "outputs": [
    {
     "name": "stdout",
     "output_type": "stream",
     "text": [
      "+919819740552\n",
      "testing random\n",
      "yes\n",
      "In 63 seconds web.whatsapp.com will open and after 20 seconds message will be delivered\n"
     ]
    }
   ],
   "source": [
    "get_contact(\"vedant m\")"
   ]
  },
  {
   "cell_type": "markdown",
   "metadata": {},
   "source": [
    "# Mail Service"
   ]
  },
  {
   "cell_type": "code",
   "execution_count": 24,
   "metadata": {},
   "outputs": [],
   "source": [
    "def MailThem(id,sub,text):\n",
    "    server = sm.SMTP_SSL('smtp.gmail.com', 465)\n",
    "    server.login('TRDsAssistant@gmail.com', 'Br0KeN@1998')\n",
    "    message = MIMEMultipart()\n",
    "    body = text\n",
    "    message['From'] = 'TRDsAssistant@gmail.com'\n",
    "    message['To'] = id\n",
    "    message['Subject'] = sub\n",
    "    message.attach(MIMEText(body, 'plain'))\n",
    "    server.send_message(message)\n",
    "    talk(\"Mail has been send\")\n",
    "    server.close()"
   ]
  },
  {
   "cell_type": "markdown",
   "metadata": {},
   "source": [
    "# Mail queries"
   ]
  },
  {
   "cell_type": "code",
   "execution_count": 25,
   "metadata": {},
   "outputs": [],
   "source": [
    "def Mailstruct(eid,name):\n",
    "    talk(\"what is the subject?\")\n",
    "    sub=input(\"\")\n",
    "    talk(\"what is your message to \"+name)\n",
    "    body=input(\"\")\n",
    "    talk(\"Would you like to send it?\")\n",
    "    if(input()==\"yes\"):\n",
    "        MailThem(eid,sub,body)\n",
    "    else:\n",
    "        talk(\"let me discard the mail!\")"
   ]
  },
  {
   "cell_type": "markdown",
   "metadata": {},
   "source": [
    "# voice engine"
   ]
  },
  {
   "cell_type": "code",
   "execution_count": 26,
   "metadata": {},
   "outputs": [],
   "source": [
    "def talk(text):\n",
    "    engine = tts.init()\n",
    "    voices = engine.getProperty('voices')\n",
    "    rates=engine.getProperty('rate')\n",
    "    engine.setProperty('rate',150)\n",
    "    engine.setProperty('voice', voices[0].id)\n",
    "    engine.say(text)\n",
    "    engine.runAndWait()\n",
    "    "
   ]
  },
  {
   "cell_type": "markdown",
   "metadata": {},
   "source": [
    "# file reader"
   ]
  },
  {
   "cell_type": "code",
   "execution_count": 27,
   "metadata": {},
   "outputs": [],
   "source": [
    "#reading text file and return data\n",
    "def read_file(file,style):\n",
    "    text=\"\"\n",
    "    if style==\"text file\":\n",
    "        cmd=file.replace(\"text file\",\"\")\n",
    "        f = open(os.getcwd()+\"\\\\\"+cmd+\".txt\", \"r\")\n",
    "        text= f.read()\n",
    "    elif style==\"word file\":\n",
    "        cmd=file.replace(\"word file\",\"\")\n",
    "        doc = docx.Document(os.getcwd()+\"\\\\\"+cmd+\".docx\")\n",
    "        all_paras = doc.paragraphs\n",
    "        for para in all_paras:\n",
    "            text+=para.text\n",
    "    talk(text)\n"
   ]
  },
  {
   "cell_type": "markdown",
   "metadata": {},
   "source": [
    "# external software exceuter"
   ]
  },
  {
   "cell_type": "code",
   "execution_count": 123,
   "metadata": {},
   "outputs": [],
   "source": [
    "def soft_opener(cmd):\n",
    "    chromedir= \"C:/Program Files (x86)/Google/Chrome/Application/chrome.exe %s\"\n",
    "    if \"spotify\" in cmd:\n",
    "        talk(\"opening spotify for you\")\n",
    "        subprocess.Popen(['C:\\\\Users\\\\user\\\\AppData\\\\Roaming\\\\Spotify\\\\Spotify.exe'])\n",
    "    elif 'word' in cmd:\n",
    "        talk(\"opening Ms word for you\")\n",
    "        subprocess.Popen(['C:\\\\Program Files\\\\Microsoft Office\\\\Office15\\\\WINWORD.EXE'])\n",
    "    elif 'chrome' in cmd:\n",
    "        talk(\"opening chrome for you\")\n",
    "        subprocess.Popen(['C:\\\\Program Files (x86)\\\\Google\\\\Chrome\\\\Application\\\\chrome.exe','-new-tab'])\n",
    "    elif 'edge' in cmd:\n",
    "        talk(\"opening Ms edge for you\")\n",
    "        subprocess.Popen(['C:\\\\Program Files (x86)\\\\Microsoft\\Edge\\\\Application\\\\msedge.exe','-new-tab'])\n",
    "    elif 'excel' in cmd:\n",
    "        talk(\"opening Ms excel for you\")\n",
    "        subprocess.Popen(['C:\\\\Program Files\\\\Microsoft Office\\\\Office15\\\\EXCEL.EXE'])\n",
    "    else:\n",
    "        talk(\"no such software found in system\")"
   ]
  },
  {
   "cell_type": "markdown",
   "metadata": {},
   "source": [
    "# file reading command executer"
   ]
  },
  {
   "cell_type": "code",
   "execution_count": 29,
   "metadata": {},
   "outputs": [],
   "source": [
    "def file_type(file):\n",
    "    if \"text file\"in file:\n",
    "        file= file.replace(\"text file\",'')\n",
    "        read_file(file.strip(),\"text file\")\n",
    "    elif \"word file\" in file:\n",
    "        file= file.replace(\"word file\",'')\n",
    "        read_file(file.strip(),\"word file\")\n",
    "    else:\n",
    "        talk(\"no such file is managed by me\")"
   ]
  },
  {
   "cell_type": "markdown",
   "metadata": {},
   "source": [
    "# WhatsApp messeger"
   ]
  },
  {
   "cell_type": "code",
   "execution_count": 119,
   "metadata": {},
   "outputs": [],
   "source": [
    "def send_msg(contact):\n",
    "    h=int(dt.datetime.now().strftime('%H'))\n",
    "    m=int(dt.datetime.now().strftime('%M'))+2\n",
    "    talk(\"what is the message?\")\n",
    "    msg=input()\n",
    "    talk(\"should i send it?\")\n",
    "    if(input()==\"yes\"):\n",
    "        pwk.sendwhatmsg(contact,msg,h,m)\n",
    "        talk(\"message has been sent\")\n",
    "    else:\n",
    "        talk(\"message discarded!\")"
   ]
  },
  {
   "cell_type": "markdown",
   "metadata": {},
   "source": [
    "# basic command executer"
   ]
  },
  {
   "cell_type": "code",
   "execution_count": 57,
   "metadata": {},
   "outputs": [],
   "source": [
    "def cmd_taker():\n",
    "    g = dt.datetime.now().strftime('%H')\n",
    "    g= int(g)\n",
    "    if(g>12 and  g<=4):\n",
    "        talk(\"good afternoon, how can i help you\")\n",
    "    elif(g<12 and g>0):\n",
    "        talk(\"good morning, how can i help you\")\n",
    "    else:\n",
    "        talk(\"good evening, how can i help you\")\n",
    "    chromedir= \"C:/Program Files (x86)/Google/Chrome/Application/chrome.exe %s\"\n",
    "    st=True\n",
    "    while(st==True):\n",
    "        command = start_ass()\n",
    "        if 'play' in command:\n",
    "            song = command.replace('play', '')\n",
    "            talk('playing ' + song)\n",
    "            pwk.playonyt(song)\n",
    "        elif 'time' in command:\n",
    "            time = dt.datetime.now().strftime('%I:%M %p')\n",
    "            talk('Current time is ' + time)\n",
    "        elif 'wiki' in command:\n",
    "            person = command.replace('wiki', '')\n",
    "            info = wk.summary(person, 1)\n",
    "            talk(info)\n",
    "        elif 'date' in command:\n",
    "            talk('sorry, I have a headache')\n",
    "        elif 'joke' in command:\n",
    "            talk(pj.get_joke())\n",
    "        elif 'bye' in command:\n",
    "            st=False\n",
    "            talk(\"See you later\")\n",
    "        elif 'read' in command:\n",
    "            file = command.replace('read', '')\n",
    "            file_type(file)\n",
    "        elif 'what are your features' in command:\n",
    "            talk('I can tell jokes,play music for you,tell time,read text files for you and get details from wikipedia')\n",
    "        elif ('thank' or 'thank you' or \"thanks\")in command:\n",
    "            talk('happy to help you')\n",
    "        elif \"search\" in command:\n",
    "            cmd=command.replace(\"search\",\"\")\n",
    "            url = \"https://www.google.com.tr/search?q={}\".format(cmd) \n",
    "            wb.get(chromedir).open(url)\n",
    "        elif \"youtube\" in command:\n",
    "            cmd=command.replace(\"youtube\",\"\")\n",
    "            url=\"https://www.youtube.com/results?search_query={}\".format(cmd)\n",
    "            wb.get(chromedir).open(url)\n",
    "        elif 'open' in command:\n",
    "            cmd=command.replace(\"open \",\"\")\n",
    "            soft_opener(cmd)\n",
    "        elif ('mail') in command:\n",
    "            cmd=command.replace(\"mail\",\"\")\n",
    "            cmd=cmd.strip()\n",
    "            get_mailid(cmd)\n",
    "        elif \"add contact\" in command:\n",
    "            talk(\"what is the username\")\n",
    "            mid=input()\n",
    "            talk(\"what is his Email id\")\n",
    "            em=input()\n",
    "            talk(\"what is his contact number\")\n",
    "            nu=input()\n",
    "            add_mail(mid,em,nu)\n",
    "        elif \"message\" in command:\n",
    "            cmd=command.replace(\"message\",\"\")\n",
    "            get_contact(cmd.strip())\n",
    "        else:\n",
    "            talk('Please say the command again.')\n",
    "    "
   ]
  },
  {
   "cell_type": "markdown",
   "metadata": {},
   "source": [
    "# Command accepter"
   ]
  },
  {
   "cell_type": "code",
   "execution_count": 31,
   "metadata": {},
   "outputs": [],
   "source": [
    "def start_ass():\n",
    "    cmd=input(\"what is ur command: \")\n",
    "    cmd = cmd.lower()\n",
    "    return cmd    "
   ]
  }
 ],
 "metadata": {
  "kernelspec": {
   "display_name": "Python 3",
   "language": "python",
   "name": "python3"
  },
  "language_info": {
   "codemirror_mode": {
    "name": "ipython",
    "version": 3
   },
   "file_extension": ".py",
   "mimetype": "text/x-python",
   "name": "python",
   "nbconvert_exporter": "python",
   "pygments_lexer": "ipython3",
   "version": "3.8.3"
  }
 },
 "nbformat": 4,
 "nbformat_minor": 4
}
